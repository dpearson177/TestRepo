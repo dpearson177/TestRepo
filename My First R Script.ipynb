{
 "cells": [
  {
   "cell_type": "markdown",
   "id": "ef9e2749",
   "metadata": {},
   "source": [
    "### Problem 1"
   ]
  },
  {
   "cell_type": "code",
   "execution_count": 2,
   "id": "b63f97da",
   "metadata": {},
   "outputs": [
    {
     "data": {
      "text/html": [
       "6"
      ],
      "text/latex": [
       "6"
      ],
      "text/markdown": [
       "6"
      ],
      "text/plain": [
       "[1] 6"
      ]
     },
     "metadata": {},
     "output_type": "display_data"
    }
   ],
   "source": [
    "# Multiplication of 2 numbers\n",
    "2 * 3"
   ]
  },
  {
   "cell_type": "markdown",
   "id": "9203d771",
   "metadata": {},
   "source": [
    "### Problem 2"
   ]
  },
  {
   "cell_type": "code",
   "execution_count": 3,
   "id": "b6ca726d",
   "metadata": {},
   "outputs": [
    {
     "data": {
      "text/html": [
       "3"
      ],
      "text/latex": [
       "3"
      ],
      "text/markdown": [
       "3"
      ],
      "text/plain": [
       "[1] 3"
      ]
     },
     "metadata": {},
     "output_type": "display_data"
    }
   ],
   "source": [
    "# Subtraction\n",
    "4 - 1"
   ]
  },
  {
   "cell_type": "markdown",
   "id": "73e3d417",
   "metadata": {},
   "source": [
    "### Problem 3: assign value of 1 to variable \"a\""
   ]
  },
  {
   "cell_type": "code",
   "execution_count": 5,
   "id": "ad534a78",
   "metadata": {},
   "outputs": [],
   "source": [
    "a <- 1"
   ]
  },
  {
   "cell_type": "code",
   "execution_count": 6,
   "id": "d42dd615",
   "metadata": {},
   "outputs": [
    {
     "data": {
      "text/html": [
       "3"
      ],
      "text/latex": [
       "3"
      ],
      "text/markdown": [
       "3"
      ],
      "text/plain": [
       "[1] 3"
      ]
     },
     "metadata": {},
     "output_type": "display_data"
    }
   ],
   "source": [
    "a + 2"
   ]
  },
  {
   "cell_type": "markdown",
   "id": "dbebd1a0",
   "metadata": {},
   "source": [
    "### Problem 4: Create a data frame"
   ]
  },
  {
   "cell_type": "code",
   "execution_count": 7,
   "id": "056a7723",
   "metadata": {},
   "outputs": [
    {
     "name": "stdout",
     "output_type": "stream",
     "text": [
      "  Emp_Name  Job_role\n",
      "1      Jai   Manager\n",
      "2    David Team Lead\n",
      "3  Michael Developer\n"
     ]
    }
   ],
   "source": [
    "df = data.frame(Emp_Name = c(\"Jai\", \"David\", \"Michael\"),\n",
    "                Job_role = c(\"Manager\", \"Team Lead\", \"Developer\")\n",
    "                )\n",
    "\n",
    "print(df)"
   ]
  },
  {
   "cell_type": "code",
   "execution_count": null,
   "id": "c65db23d",
   "metadata": {},
   "outputs": [],
   "source": []
  }
 ],
 "metadata": {
  "kernelspec": {
   "display_name": "R",
   "language": "R",
   "name": "ir"
  },
  "language_info": {
   "codemirror_mode": "r",
   "file_extension": ".r",
   "mimetype": "text/x-r-source",
   "name": "R",
   "pygments_lexer": "r",
   "version": "3.6.1"
  }
 },
 "nbformat": 4,
 "nbformat_minor": 5
}
